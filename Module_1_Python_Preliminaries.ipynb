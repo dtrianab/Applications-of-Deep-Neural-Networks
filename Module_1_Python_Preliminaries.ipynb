{
  "nbformat": 4,
  "nbformat_minor": 0,
  "metadata": {
    "colab": {
      "name": "Module_1_Python Preliminaries.ipynb",
      "provenance": [],
      "collapsed_sections": [],
      "authorship_tag": "ABX9TyPtanQVhZH3IY1MO93RuS03",
      "include_colab_link": true
    },
    "kernelspec": {
      "name": "python3",
      "display_name": "Python 3"
    },
    "accelerator": "GPU"
  },
  "cells": [
    {
      "cell_type": "markdown",
      "metadata": {
        "id": "view-in-github",
        "colab_type": "text"
      },
      "source": [
        "<a href=\"https://colab.research.google.com/github/dtrianab/Applications-of-Deep-Neural-Networks/blob/master/Module_1_Python_Preliminaries.ipynb\" target=\"_parent\"><img src=\"https://colab.research.google.com/assets/colab-badge.svg\" alt=\"Open In Colab\"/></a>"
      ]
    },
    {
      "cell_type": "markdown",
      "metadata": {
        "id": "PY9cRL83j-Sv",
        "colab_type": "text"
      },
      "source": [
        "This preliminar file included the actual version of the modules used in Google Colab for the Course [[Video]](https://www.youtube.com/watch?v=czq5d53vKvo&list=PLjy4p-07OYzulelvJ5KVaT2pDlxivl_BN) [Notebook](https://colab.research.google.com/github/jeffheaton/t81_558_deep_learning/blob/master/t81_558_class_01_1_overview.ipynb#scrollTo=Hgh5oWr0he9i)  "
      ]
    },
    {
      "cell_type": "code",
      "metadata": {
        "id": "xFE_T6ftClo-",
        "colab_type": "code",
        "colab": {}
      },
      "source": [
        "!git clone https://github.com/dtrianab/Applications-of-Deep-Neural-Networks.git"
      ],
      "execution_count": 0,
      "outputs": []
    },
    {
      "cell_type": "code",
      "metadata": {
        "id": "lj9_frijhe9u",
        "colab_type": "code",
        "outputId": "190fb7df-6557-4290-9974-35049b1531ba",
        "colab": {
          "base_uri": "https://localhost:8080/",
          "height": 156
        }
      },
      "source": [
        "# What version of Python do you have?\n",
        "import sys\n",
        "\n",
        "import tensorflow.keras\n",
        "import pandas as pd\n",
        "import sklearn as sk\n",
        "import tensorflow as tf\n",
        "\n",
        "print(f\"Tensor Flow Version: {tf.__version__}\")\n",
        "print(f\"Keras Version: {tensorflow.keras.__version__}\")\n",
        "print()\n",
        "print(f\"Python {sys.version}\")\n",
        "print(f\"Pandas {pd.__version__}\")\n",
        "print(f\"Scikit-Learn {sk.__version__}\")\n",
        "print(\"GPU is\", \"available\" if tf.test.is_gpu_available() else \"NOT AVAILABLE\")"
      ],
      "execution_count": 0,
      "outputs": [
        {
          "output_type": "stream",
          "text": [
            "Tensor Flow Version: 2.2.0\n",
            "Keras Version: 2.3.0-tf\n",
            "\n",
            "Python 3.6.9 (default, Apr 18 2020, 01:56:04) \n",
            "[GCC 8.4.0]\n",
            "Pandas 1.0.3\n",
            "Scikit-Learn 0.22.2.post1\n",
            "GPU is available\n"
          ],
          "name": "stdout"
        }
      ]
    }
  ]
}